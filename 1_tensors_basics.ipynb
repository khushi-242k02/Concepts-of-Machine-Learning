{
 "cells": [
  {
   "cell_type": "code",
   "execution_count": 1,
   "id": "be02a5fa",
   "metadata": {},
   "outputs": [],
   "source": [
    "import numpy as np"
   ]
  },
  {
   "cell_type": "markdown",
   "id": "43c93cbc",
   "metadata": {},
   "source": [
    "### 0D Tensor / Scalar"
   ]
  },
  {
   "cell_type": "code",
   "execution_count": 2,
   "id": "9babec09",
   "metadata": {},
   "outputs": [],
   "source": [
    "a = np.array(5)"
   ]
  },
  {
   "cell_type": "code",
   "execution_count": 3,
   "id": "fb1d42d3",
   "metadata": {},
   "outputs": [
    {
     "data": {
      "text/plain": [
       "array(5)"
      ]
     },
     "execution_count": 3,
     "metadata": {},
     "output_type": "execute_result"
    }
   ],
   "source": [
    "a"
   ]
  },
  {
   "cell_type": "code",
   "execution_count": 4,
   "id": "debf2e6e",
   "metadata": {},
   "outputs": [
    {
     "data": {
      "text/plain": [
       "0"
      ]
     },
     "execution_count": 4,
     "metadata": {},
     "output_type": "execute_result"
    }
   ],
   "source": [
    "a.ndim"
   ]
  },
  {
   "cell_type": "markdown",
   "id": "c0c3928d",
   "metadata": {},
   "source": [
    "### 1D Tensor / Vector"
   ]
  },
  {
   "cell_type": "code",
   "execution_count": 5,
   "id": "d35b50c1",
   "metadata": {},
   "outputs": [],
   "source": [
    "  arr = np.array([1,2,3])"
   ]
  },
  {
   "cell_type": "code",
   "execution_count": 6,
   "id": "39986f33",
   "metadata": {},
   "outputs": [
    {
     "data": {
      "text/plain": [
       "array([1, 2, 3])"
      ]
     },
     "execution_count": 6,
     "metadata": {},
     "output_type": "execute_result"
    }
   ],
   "source": [
    "arr"
   ]
  },
  {
   "cell_type": "code",
   "execution_count": 7,
   "id": "0db11859",
   "metadata": {},
   "outputs": [
    {
     "data": {
      "text/plain": [
       "1"
      ]
     },
     "execution_count": 7,
     "metadata": {},
     "output_type": "execute_result"
    }
   ],
   "source": [
    "arr.ndim"
   ]
  },
  {
   "cell_type": "markdown",
   "id": "38544250",
   "metadata": {},
   "source": [
    "### 2D Tensor / Matrices"
   ]
  },
  {
   "cell_type": "code",
   "execution_count": 8,
   "id": "c5a48198",
   "metadata": {},
   "outputs": [],
   "source": [
    " mat = np.array([[1,2,3],[4,5,6],[7,8,9]])"
   ]
  },
  {
   "cell_type": "code",
   "execution_count": 9,
   "id": "143e71eb",
   "metadata": {},
   "outputs": [
    {
     "data": {
      "text/plain": [
       "array([[1, 2, 3],\n",
       "       [4, 5, 6],\n",
       "       [7, 8, 9]])"
      ]
     },
     "execution_count": 9,
     "metadata": {},
     "output_type": "execute_result"
    }
   ],
   "source": [
    "mat"
   ]
  },
  {
   "cell_type": "code",
   "execution_count": 10,
   "id": "9d76c66e",
   "metadata": {},
   "outputs": [
    {
     "data": {
      "text/plain": [
       "2"
      ]
     },
     "execution_count": 10,
     "metadata": {},
     "output_type": "execute_result"
    }
   ],
   "source": [
    "mat.ndim"
   ]
  },
  {
   "cell_type": "markdown",
   "id": "438f4d8f",
   "metadata": {},
   "source": [
    "### 3D Tensor"
   ]
  },
  {
   "cell_type": "code",
   "execution_count": 13,
   "id": "ae8c2ac3",
   "metadata": {},
   "outputs": [],
   "source": [
    "three_d = np.array([[[1,2,3],[4,5,6],[7,8,9]],\n",
    "               [[1,2,3],[4,5,6],[7,8,9]],\n",
    "               [[1,2,3],[4,5,6],[7,8,9]]]\n",
    "              )"
   ]
  },
  {
   "cell_type": "code",
   "execution_count": 14,
   "id": "638e1ccb",
   "metadata": {},
   "outputs": [
    {
     "data": {
      "text/plain": [
       "array([[[1, 2, 3],\n",
       "        [4, 5, 6],\n",
       "        [7, 8, 9]],\n",
       "\n",
       "       [[1, 2, 3],\n",
       "        [4, 5, 6],\n",
       "        [7, 8, 9]],\n",
       "\n",
       "       [[1, 2, 3],\n",
       "        [4, 5, 6],\n",
       "        [7, 8, 9]]])"
      ]
     },
     "execution_count": 14,
     "metadata": {},
     "output_type": "execute_result"
    }
   ],
   "source": [
    "three_d"
   ]
  },
  {
   "cell_type": "code",
   "execution_count": 15,
   "id": "2e005756",
   "metadata": {},
   "outputs": [
    {
     "data": {
      "text/plain": [
       "3"
      ]
     },
     "execution_count": 15,
     "metadata": {},
     "output_type": "execute_result"
    }
   ],
   "source": [
    "three_d.ndim"
   ]
  },
  {
   "cell_type": "code",
   "execution_count": null,
   "id": "24b029f8",
   "metadata": {},
   "outputs": [],
   "source": []
  }
 ],
 "metadata": {
  "kernelspec": {
   "display_name": "Python 3 (ipykernel)",
   "language": "python",
   "name": "python3"
  },
  "language_info": {
   "codemirror_mode": {
    "name": "ipython",
    "version": 3
   },
   "file_extension": ".py",
   "mimetype": "text/x-python",
   "name": "python",
   "nbconvert_exporter": "python",
   "pygments_lexer": "ipython3",
   "version": "3.9.18"
  }
 },
 "nbformat": 4,
 "nbformat_minor": 5
}
